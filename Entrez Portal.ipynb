{
 "cells": [
  {
   "cell_type": "code",
   "execution_count": 3,
   "metadata": {},
   "outputs": [],
   "source": [
    "from Bio import Entrez\n",
    "import xmltodict"
   ]
  },
  {
   "cell_type": "code",
   "execution_count": 49,
   "metadata": {},
   "outputs": [],
   "source": [
    "Entrez.email = 'will.cheney@live.com' # provide your email address\n",
    "db = 'clinvar'                              # set search to dbVar database\n",
    "paramEutils = { 'usehistory':'Y' }  "
   ]
  },
  {
   "cell_type": "code",
   "execution_count": 50,
   "metadata": {},
   "outputs": [],
   "source": [
    "eSearch = Entrez.esearch(db=db, term='(\"oprm1\")', **paramEutils)\n"
   ]
  },
  {
   "cell_type": "code",
   "execution_count": 51,
   "metadata": {},
   "outputs": [],
   "source": [
    "res = Entrez.read(eSearch)\n"
   ]
  },
  {
   "cell_type": "code",
   "execution_count": 52,
   "metadata": {},
   "outputs": [],
   "source": [
    "paramEutils['WebEnv'] = res['WebEnv']         #add WebEnv and query_key to eUtils parameters to request esummary using  \n",
    "paramEutils['query_key'] = res['QueryKey']    #search history (cache results) instead of using IdList \n",
    "paramEutils['rettype'] = 'xml'                #get report as xml\n",
    "paramEutils['retstart'] = 0                   #get result starting at 0, top of IdList\n",
    "paramEutils['retmax'] = 10   \n",
    "\n",
    "\n",
    "\n",
    "result = Entrez.esummary(db=db, **paramEutils)\n"
   ]
  },
  {
   "cell_type": "code",
   "execution_count": 53,
   "metadata": {},
   "outputs": [],
   "source": [
    "xml = result.read()"
   ]
  },
  {
   "cell_type": "code",
   "execution_count": 54,
   "metadata": {},
   "outputs": [
    {
     "name": "stdout",
     "output_type": "stream",
     "text": [
      "OrderedDict([('@uid', '979577'), ('obj_type', 'copy number gain'), ('accession', 'VCV000979577'), ('accession_version', 'VCV000979577.'), ('title', 'GRCh37/hg19 6q25.1-25.2(chr6:151472860-154839846)x3'), ('variation_set', OrderedDict([('variation', OrderedDict([('measure_id', '967655'), ('variation_xrefs', None), ('variation_name', 'GRCh37/hg19 6q25.1-25.2(chr6:151472860-154839846)x3'), ('cdna_change', 'GRCh37/hg19 6q25.1-25.2(chr6:151472860-154839846)x3'), ('aliases', None), ('variation_loc', OrderedDict([('assembly_set', OrderedDict([('status', 'previous'), ('assembly_name', 'GRCh37'), ('chr', '6'), ('band', '6q25.1-25.2'), ('start', '151472860'), ('stop', '154839846'), ('inner_start', '151472860'), ('inner_stop', '154839846'), ('outer_start', None), ('outer_stop', None), ('display_start', '151472860'), ('display_stop', '154839846'), ('assembly_acc_ver', 'GCF_000001405.25'), ('annotation_release', None), ('alt', None), ('ref', None)]))])), ('allele_freq_set', None), ('variant_type', 'copy number gain'), ('canonical_spdi', None)]))])), ('trait_set', OrderedDict([('trait', OrderedDict([('trait_xrefs', OrderedDict([('trait_xref', OrderedDict([('db_source', 'MedGen'), ('db_id', 'CN517202')]))])), ('trait_name', 'not provided')]))])), ('supporting_submissions', OrderedDict([('scv', OrderedDict([('string', 'SCV001435722')])), ('rcv', OrderedDict([('string', 'RCV001258753')]))])), ('clinical_significance', OrderedDict([('description', 'Likely pathogenic'), ('last_evaluated', '2019/07/29 00:00'), ('review_status', 'no assertion criteria provided')])), ('record_status', None), ('gene_sort', 'ESR1'), ('chr_sort', '06'), ('location_sort', '99999999999999999999'), ('variation_set_name', None), ('variation_set_id', None), ('genes', OrderedDict([('gene', [OrderedDict([('symbol', 'ESR1'), ('GeneID', '2099'), ('strand', '+'), ('source', 'submitted')]), OrderedDict([('symbol', 'OPRM1'), ('GeneID', '4988'), ('strand', '+'), ('source', 'submitted')]), OrderedDict([('symbol', 'VIP'), ('GeneID', '7432'), ('strand', '+'), ('source', 'submitted')]), OrderedDict([('symbol', 'AKAP12'), ('GeneID', '9590'), ('strand', '+'), ('source', 'submitted')]), OrderedDict([('symbol', 'SYNE1'), ('GeneID', '23345'), ('strand', '-'), ('source', 'submitted')]), OrderedDict([('symbol', 'IPCEF1'), ('GeneID', '26034'), ('strand', '-'), ('source', 'submitted')]), OrderedDict([('symbol', 'FBXO5'), ('GeneID', '26271'), ('strand', '-'), ('source', 'submitted')]), OrderedDict([('symbol', 'RGS17'), ('GeneID', '26575'), ('strand', '-'), ('source', 'submitted')]), OrderedDict([('symbol', 'MTRF1L'), ('GeneID', '54516'), ('strand', '-'), ('source', 'submitted')]), OrderedDict([('symbol', 'RMND1'), ('GeneID', '55005'), ('strand', '-'), ('source', 'submitted')]), OrderedDict([('symbol', 'ZBTB2'), ('GeneID', '57621'), ('strand', '-'), ('source', 'submitted')]), OrderedDict([('symbol', 'ARMT1'), ('GeneID', '79624'), ('strand', '+'), ('source', 'submitted')]), OrderedDict([('symbol', 'CCDC170'), ('GeneID', '80129'), ('strand', '+'), ('source', 'submitted')]), OrderedDict([('symbol', 'MYCT1'), ('GeneID', '80177'), ('strand', '+'), ('source', 'submitted')]), OrderedDict([('symbol', 'CNKSR3'), ('GeneID', '154043'), ('strand', '-'), ('source', 'submitted')]), OrderedDict([('symbol', 'SYNE1-AS1'), ('GeneID', '100505475'), ('strand', '+'), ('source', 'submitted')])])])), ('protein_change', None), ('fda_recognized_database', None)])\n",
      " \n",
      "OrderedDict([('@uid', '829288'), ('obj_type', 'single nucleotide variant'), ('accession', 'VCV000829288'), ('accession_version', 'VCV000829288.'), ('title', 'NM_001145279.3(OPRM1):c.-55A>T'), ('variation_set', OrderedDict([('variation', OrderedDict([('measure_id', '816677'), ('variation_xrefs', OrderedDict([('variation_xref', OrderedDict([('db_source', 'dbSNP'), ('db_id', '1583105979')]))])), ('variation_name', 'NM_001145279.3(OPRM1):c.-55A>T'), ('cdna_change', 'NM_001145279.3(OPRM1):c.-55A>T'), ('aliases', None), ('variation_loc', OrderedDict([('assembly_set', [OrderedDict([('status', 'current'), ('assembly_name', 'GRCh38'), ('chr', '6'), ('band', '6q25.2'), ('start', '154010964'), ('stop', '154010964'), ('inner_start', None), ('inner_stop', None), ('outer_start', None), ('outer_stop', None), ('display_start', '154010964'), ('display_stop', '154010964'), ('assembly_acc_ver', 'GCF_000001405.38'), ('annotation_release', None), ('alt', None), ('ref', None)]), OrderedDict([('status', 'previous'), ('assembly_name', 'GRCh37'), ('chr', '6'), ('band', '6q25.2'), ('start', '154332099'), ('stop', '154332099'), ('inner_start', None), ('inner_stop', None), ('outer_start', None), ('outer_stop', None), ('display_start', '154332099'), ('display_stop', '154332099'), ('assembly_acc_ver', 'GCF_000001405.25'), ('annotation_release', None), ('alt', 'T'), ('ref', 'A')])])])), ('allele_freq_set', None), ('variant_type', 'single nucleotide variant'), ('canonical_spdi', 'NC_000006.12:154010963:A:T')]))])), ('trait_set', OrderedDict([('trait', OrderedDict([('trait_xrefs', OrderedDict([('trait_xref', OrderedDict([('db_source', 'MedGen'), ('db_id', 'CN078023')]))])), ('trait_name', 'Tramadol response')]))])), ('supporting_submissions', OrderedDict([('scv', OrderedDict([('string', 'SCV001191995')])), ('rcv', OrderedDict([('string', 'RCV001029209')]))])), ('clinical_significance', OrderedDict([('description', 'drug response'), ('last_evaluated', '2018/04/28 00:00'), ('review_status', 'no assertion criteria provided')])), ('record_status', None), ('gene_sort', 'OPRM1'), ('chr_sort', '06'), ('location_sort', '00000000000154010964'), ('variation_set_name', None), ('variation_set_id', None), ('genes', OrderedDict([('gene', OrderedDict([('symbol', 'OPRM1'), ('GeneID', '4988'), ('strand', '+'), ('source', 'submitted')]))])), ('protein_change', None), ('fda_recognized_database', None)])\n",
      " \n",
      "OrderedDict([('@uid', '829287'), ('obj_type', 'single nucleotide variant'), ('accession', 'VCV000829287'), ('accession_version', 'VCV000829287.'), ('title', 'NM_001145279.3(OPRM1):c.-11C>T'), ('variation_set', OrderedDict([('variation', OrderedDict([('measure_id', '816678'), ('variation_xrefs', OrderedDict([('variation_xref', OrderedDict([('db_source', 'dbSNP'), ('db_id', '1583106074')]))])), ('variation_name', 'NM_001145279.3(OPRM1):c.-11C>T'), ('cdna_change', 'NM_001145279.3(OPRM1):c.-11C>T'), ('aliases', None), ('variation_loc', OrderedDict([('assembly_set', [OrderedDict([('status', 'current'), ('assembly_name', 'GRCh38'), ('chr', '6'), ('band', '6q25.2'), ('start', '154011008'), ('stop', '154011008'), ('inner_start', None), ('inner_stop', None), ('outer_start', None), ('outer_stop', None), ('display_start', '154011008'), ('display_stop', '154011008'), ('assembly_acc_ver', 'GCF_000001405.38'), ('annotation_release', None), ('alt', None), ('ref', None)]), OrderedDict([('status', 'previous'), ('assembly_name', 'GRCh37'), ('chr', '6'), ('band', '6q25.2'), ('start', '154332143'), ('stop', '154332143'), ('inner_start', None), ('inner_stop', None), ('outer_start', None), ('outer_stop', None), ('display_start', '154332143'), ('display_stop', '154332143'), ('assembly_acc_ver', 'GCF_000001405.25'), ('annotation_release', None), ('alt', 'T'), ('ref', 'C')])])])), ('allele_freq_set', None), ('variant_type', 'single nucleotide variant'), ('canonical_spdi', 'NC_000006.12:154011007:C:T')]))])), ('trait_set', OrderedDict([('trait', OrderedDict([('trait_xrefs', OrderedDict([('trait_xref', OrderedDict([('db_source', 'MedGen'), ('db_id', 'CN078023')]))])), ('trait_name', 'Tramadol response')]))])), ('supporting_submissions', OrderedDict([('scv', OrderedDict([('string', 'SCV001191994')])), ('rcv', OrderedDict([('string', 'RCV001029208')]))])), ('clinical_significance', OrderedDict([('description', 'drug response'), ('last_evaluated', '2018/04/28 00:00'), ('review_status', 'no assertion criteria provided')])), ('record_status', None), ('gene_sort', 'OPRM1'), ('chr_sort', '06'), ('location_sort', '00000000000154011008'), ('variation_set_name', None), ('variation_set_id', None), ('genes', OrderedDict([('gene', OrderedDict([('symbol', 'OPRM1'), ('GeneID', '4988'), ('strand', '+'), ('source', 'submitted')]))])), ('protein_change', None), ('fda_recognized_database', None)])\n",
      " \n",
      "OrderedDict([('@uid', '829286'), ('obj_type', 'single nucleotide variant'), ('accession', 'VCV000829286'), ('accession_version', 'VCV000829286.'), ('title', 'NM_001145279.3(OPRM1):c.-2G>T'), ('variation_set', OrderedDict([('variation', OrderedDict([('measure_id', '816679'), ('variation_xrefs', OrderedDict([('variation_xref', OrderedDict([('db_source', 'dbSNP'), ('db_id', '1583106084')]))])), ('variation_name', 'NM_001145279.3(OPRM1):c.-2G>T'), ('cdna_change', 'NM_001145279.3(OPRM1):c.-2G>T'), ('aliases', None), ('variation_loc', OrderedDict([('assembly_set', [OrderedDict([('status', 'current'), ('assembly_name', 'GRCh38'), ('chr', '6'), ('band', '6q25.2'), ('start', '154011017'), ('stop', '154011017'), ('inner_start', None), ('inner_stop', None), ('outer_start', None), ('outer_stop', None), ('display_start', '154011017'), ('display_stop', '154011017'), ('assembly_acc_ver', 'GCF_000001405.38'), ('annotation_release', None), ('alt', None), ('ref', None)]), OrderedDict([('status', 'previous'), ('assembly_name', 'GRCh37'), ('chr', '6'), ('band', '6q25.2'), ('start', '154332152'), ('stop', '154332152'), ('inner_start', None), ('inner_stop', None), ('outer_start', None), ('outer_stop', None), ('display_start', '154332152'), ('display_stop', '154332152'), ('assembly_acc_ver', 'GCF_000001405.25'), ('annotation_release', None), ('alt', 'T'), ('ref', 'G')])])])), ('allele_freq_set', None), ('variant_type', 'single nucleotide variant'), ('canonical_spdi', 'NC_000006.12:154011016:G:T')]))])), ('trait_set', OrderedDict([('trait', OrderedDict([('trait_xrefs', OrderedDict([('trait_xref', OrderedDict([('db_source', 'MedGen'), ('db_id', 'CN078023')]))])), ('trait_name', 'Tramadol response')]))])), ('supporting_submissions', OrderedDict([('scv', OrderedDict([('string', 'SCV001191993')])), ('rcv', OrderedDict([('string', 'RCV001029207')]))])), ('clinical_significance', OrderedDict([('description', 'drug response'), ('last_evaluated', '2018/04/28 00:00'), ('review_status', 'no assertion criteria provided')])), ('record_status', None), ('gene_sort', 'OPRM1'), ('chr_sort', '06'), ('location_sort', '00000000000154011017'), ('variation_set_name', None), ('variation_set_id', None), ('genes', OrderedDict([('gene', OrderedDict([('symbol', 'OPRM1'), ('GeneID', '4988'), ('strand', '+'), ('source', 'submitted')]))])), ('protein_change', None), ('fda_recognized_database', None)])\n",
      " \n",
      "OrderedDict([('@uid', '829285'), ('obj_type', 'single nucleotide variant'), ('accession', 'VCV000829285'), ('accession_version', 'VCV000829285.'), ('title', 'NM_001145279.3(OPRM1):c.-1+11G>T'), ('variation_set', OrderedDict([('variation', OrderedDict([('measure_id', '816680'), ('variation_xrefs', OrderedDict([('variation_xref', OrderedDict([('db_source', 'dbSNP'), ('db_id', '1583106153')]))])), ('variation_name', 'NM_001145279.3(OPRM1):c.-1+11G>T'), ('cdna_change', 'NM_001145279.3(OPRM1):c.-1+11G>T'), ('aliases', None), ('variation_loc', OrderedDict([('assembly_set', [OrderedDict([('status', 'current'), ('assembly_name', 'GRCh38'), ('chr', '6'), ('band', '6q25.2'), ('start', '154011029'), ('stop', '154011029'), ('inner_start', None), ('inner_stop', None), ('outer_start', None), ('outer_stop', None), ('display_start', '154011029'), ('display_stop', '154011029'), ('assembly_acc_ver', 'GCF_000001405.38'), ('annotation_release', None), ('alt', None), ('ref', None)]), OrderedDict([('status', 'previous'), ('assembly_name', 'GRCh37'), ('chr', '6'), ('band', '6q25.2'), ('start', '154332164'), ('stop', '154332164'), ('inner_start', None), ('inner_stop', None), ('outer_start', None), ('outer_stop', None), ('display_start', '154332164'), ('display_stop', '154332164'), ('assembly_acc_ver', 'GCF_000001405.25'), ('annotation_release', None), ('alt', 'T'), ('ref', 'G')])])])), ('allele_freq_set', None), ('variant_type', 'single nucleotide variant'), ('canonical_spdi', 'NC_000006.12:154011028:G:T')]))])), ('trait_set', OrderedDict([('trait', OrderedDict([('trait_xrefs', OrderedDict([('trait_xref', OrderedDict([('db_source', 'MedGen'), ('db_id', 'CN078023')]))])), ('trait_name', 'Tramadol response')]))])), ('supporting_submissions', OrderedDict([('scv', OrderedDict([('string', 'SCV001191992')])), ('rcv', OrderedDict([('string', 'RCV001029206')]))])), ('clinical_significance', OrderedDict([('description', 'drug response'), ('last_evaluated', '2018/04/28 00:00'), ('review_status', 'no assertion criteria provided')])), ('record_status', None), ('gene_sort', 'OPRM1'), ('chr_sort', '06'), ('location_sort', '00000000000154011029'), ('variation_set_name', None), ('variation_set_id', None), ('genes', OrderedDict([('gene', OrderedDict([('symbol', 'OPRM1'), ('GeneID', '4988'), ('strand', '+'), ('source', 'submitted')]))])), ('protein_change', None), ('fda_recognized_database', None)])\n",
      " \n",
      "OrderedDict([('@uid', '829284'), ('obj_type', 'single nucleotide variant'), ('accession', 'VCV000829284'), ('accession_version', 'VCV000829284.'), ('title', 'NM_001145279.3(OPRM1):c.-1+51G>T'), ('variation_set', OrderedDict([('variation', OrderedDict([('measure_id', '816681'), ('variation_xrefs', OrderedDict([('variation_xref', OrderedDict([('db_source', 'dbSNP'), ('db_id', '1583106204')]))])), ('variation_name', 'NM_001145279.3(OPRM1):c.-1+51G>T'), ('cdna_change', 'NM_001145279.3(OPRM1):c.-1+51G>T'), ('aliases', None), ('variation_loc', OrderedDict([('assembly_set', [OrderedDict([('status', 'current'), ('assembly_name', 'GRCh38'), ('chr', '6'), ('band', '6q25.2'), ('start', '154011069'), ('stop', '154011069'), ('inner_start', None), ('inner_stop', None), ('outer_start', None), ('outer_stop', None), ('display_start', '154011069'), ('display_stop', '154011069'), ('assembly_acc_ver', 'GCF_000001405.38'), ('annotation_release', None), ('alt', None), ('ref', None)]), OrderedDict([('status', 'previous'), ('assembly_name', 'GRCh37'), ('chr', '6'), ('band', '6q25.2'), ('start', '154332204'), ('stop', '154332204'), ('inner_start', None), ('inner_stop', None), ('outer_start', None), ('outer_stop', None), ('display_start', '154332204'), ('display_stop', '154332204'), ('assembly_acc_ver', 'GCF_000001405.25'), ('annotation_release', None), ('alt', 'T'), ('ref', 'G')])])])), ('allele_freq_set', None), ('variant_type', 'single nucleotide variant'), ('canonical_spdi', 'NC_000006.12:154011068:G:T')]))])), ('trait_set', OrderedDict([('trait', OrderedDict([('trait_xrefs', OrderedDict([('trait_xref', OrderedDict([('db_source', 'MedGen'), ('db_id', 'CN078023')]))])), ('trait_name', 'Tramadol response')]))])), ('supporting_submissions', OrderedDict([('scv', OrderedDict([('string', 'SCV001191991')])), ('rcv', OrderedDict([('string', 'RCV001029205')]))])), ('clinical_significance', OrderedDict([('description', 'drug response'), ('last_evaluated', '2018/04/28 00:00'), ('review_status', 'no assertion criteria provided')])), ('record_status', None), ('gene_sort', 'OPRM1'), ('chr_sort', '06'), ('location_sort', '00000000000154011069'), ('variation_set_name', None), ('variation_set_id', None), ('genes', OrderedDict([('gene', OrderedDict([('symbol', 'OPRM1'), ('GeneID', '4988'), ('strand', '+'), ('source', 'submitted')]))])), ('protein_change', None), ('fda_recognized_database', None)])\n",
      " \n",
      "OrderedDict([('@uid', '829283'), ('obj_type', 'single nucleotide variant'), ('accession', 'VCV000829283'), ('accession_version', 'VCV000829283.'), ('title', 'NM_001145279.3(OPRM1):c.-1+70G>C'), ('variation_set', OrderedDict([('variation', OrderedDict([('measure_id', '816682'), ('variation_xrefs', OrderedDict([('variation_xref', OrderedDict([('db_source', 'dbSNP'), ('db_id', '769686797')]))])), ('variation_name', 'NM_001145279.3(OPRM1):c.-1+70G>C'), ('cdna_change', 'NM_001145279.3(OPRM1):c.-1+70G>C'), ('aliases', None), ('variation_loc', OrderedDict([('assembly_set', [OrderedDict([('status', 'current'), ('assembly_name', 'GRCh38'), ('chr', '6'), ('band', '6q25.2'), ('start', '154011088'), ('stop', '154011088'), ('inner_start', None), ('inner_stop', None), ('outer_start', None), ('outer_stop', None), ('display_start', '154011088'), ('display_stop', '154011088'), ('assembly_acc_ver', 'GCF_000001405.38'), ('annotation_release', None), ('alt', None), ('ref', None)]), OrderedDict([('status', 'previous'), ('assembly_name', 'GRCh37'), ('chr', '6'), ('band', '6q25.2'), ('start', '154332223'), ('stop', '154332223'), ('inner_start', None), ('inner_stop', None), ('outer_start', None), ('outer_stop', None), ('display_start', '154332223'), ('display_stop', '154332223'), ('assembly_acc_ver', 'GCF_000001405.25'), ('annotation_release', None), ('alt', 'C'), ('ref', 'G')])])])), ('allele_freq_set', None), ('variant_type', 'single nucleotide variant'), ('canonical_spdi', 'NC_000006.12:154011087:G:C')]))])), ('trait_set', OrderedDict([('trait', OrderedDict([('trait_xrefs', OrderedDict([('trait_xref', OrderedDict([('db_source', 'MedGen'), ('db_id', 'CN078023')]))])), ('trait_name', 'Tramadol response')]))])), ('supporting_submissions', OrderedDict([('scv', OrderedDict([('string', 'SCV001191990')])), ('rcv', OrderedDict([('string', 'RCV001029204')]))])), ('clinical_significance', OrderedDict([('description', 'drug response'), ('last_evaluated', '2018/04/28 00:00'), ('review_status', 'no assertion criteria provided')])), ('record_status', None), ('gene_sort', 'OPRM1'), ('chr_sort', '06'), ('location_sort', '00000000000154011088'), ('variation_set_name', None), ('variation_set_id', None), ('genes', OrderedDict([('gene', OrderedDict([('symbol', 'OPRM1'), ('GeneID', '4988'), ('strand', '+'), ('source', 'submitted')]))])), ('protein_change', None), ('fda_recognized_database', None)])\n",
      " \n",
      "OrderedDict([('@uid', '829282'), ('obj_type', 'Deletion'), ('accession', 'VCV000829282'), ('accession_version', 'VCV000829282.'), ('title', 'NM_001145279.3(OPRM1):c.-1+86_-1+87del'), ('variation_set', OrderedDict([('variation', OrderedDict([('measure_id', '816683'), ('variation_xrefs', OrderedDict([('variation_xref', OrderedDict([('db_source', 'dbSNP'), ('db_id', '1583106304')]))])), ('variation_name', 'NM_001145279.3(OPRM1):c.-1+86_-1+87del'), ('cdna_change', 'NM_001145279.3(OPRM1):c.-1+86_-1+87del'), ('aliases', None), ('variation_loc', OrderedDict([('assembly_set', [OrderedDict([('status', 'current'), ('assembly_name', 'GRCh38'), ('chr', '6'), ('band', '6q25.2'), ('start', '154011104'), ('stop', '154011105'), ('inner_start', None), ('inner_stop', None), ('outer_start', None), ('outer_stop', None), ('display_start', '154011104'), ('display_stop', '154011105'), ('assembly_acc_ver', 'GCF_000001405.38'), ('annotation_release', None), ('alt', None), ('ref', None)]), OrderedDict([('status', 'previous'), ('assembly_name', 'GRCh37'), ('chr', '6'), ('band', '6q25.2'), ('start', '154332239'), ('stop', '154332240'), ('inner_start', None), ('inner_stop', None), ('outer_start', None), ('outer_stop', None), ('display_start', '154332239'), ('display_stop', '154332240'), ('assembly_acc_ver', 'GCF_000001405.25'), ('annotation_release', None), ('alt', 'C'), ('ref', 'CAT')])])])), ('allele_freq_set', None), ('variant_type', 'Deletion'), ('canonical_spdi', 'NC_000006.12:154011103:AT:')]))])), ('trait_set', OrderedDict([('trait', OrderedDict([('trait_xrefs', OrderedDict([('trait_xref', OrderedDict([('db_source', 'MedGen'), ('db_id', 'CN078023')]))])), ('trait_name', 'Tramadol response')]))])), ('supporting_submissions', OrderedDict([('scv', OrderedDict([('string', 'SCV001191989')])), ('rcv', OrderedDict([('string', 'RCV001029203')]))])), ('clinical_significance', OrderedDict([('description', 'drug response'), ('last_evaluated', '2018/04/28 00:00'), ('review_status', 'no assertion criteria provided')])), ('record_status', None), ('gene_sort', 'OPRM1'), ('chr_sort', '06'), ('location_sort', '00000000000154011104'), ('variation_set_name', None), ('variation_set_id', None), ('genes', OrderedDict([('gene', OrderedDict([('symbol', 'OPRM1'), ('GeneID', '4988'), ('strand', '+'), ('source', 'submitted')]))])), ('protein_change', None), ('fda_recognized_database', None)])\n",
      " \n",
      "OrderedDict([('@uid', '829281'), ('obj_type', 'single nucleotide variant'), ('accession', 'VCV000829281'), ('accession_version', 'VCV000829281.'), ('title', 'NM_001145279.3(OPRM1):c.1-130C>A'), ('variation_set', OrderedDict([('variation', OrderedDict([('measure_id', '816684'), ('variation_xrefs', OrderedDict([('variation_xref', OrderedDict([('db_source', 'dbSNP'), ('db_id', '1583168957')]))])), ('variation_name', 'NM_001145279.3(OPRM1):c.1-130C>A'), ('cdna_change', 'NM_001145279.3(OPRM1):c.1-130C>A'), ('aliases', None), ('variation_loc', OrderedDict([('assembly_set', [OrderedDict([('status', 'current'), ('assembly_name', 'GRCh38'), ('chr', '6'), ('band', '6q25.2'), ('start', '154039031'), ('stop', '154039031'), ('inner_start', None), ('inner_stop', None), ('outer_start', None), ('outer_stop', None), ('display_start', '154039031'), ('display_stop', '154039031'), ('assembly_acc_ver', 'GCF_000001405.38'), ('annotation_release', None), ('alt', None), ('ref', None)]), OrderedDict([('status', 'previous'), ('assembly_name', 'GRCh37'), ('chr', '6'), ('band', '6q25.2'), ('start', '154360166'), ('stop', '154360166'), ('inner_start', None), ('inner_stop', None), ('outer_start', None), ('outer_stop', None), ('display_start', '154360166'), ('display_stop', '154360166'), ('assembly_acc_ver', 'GCF_000001405.25'), ('annotation_release', None), ('alt', 'A'), ('ref', 'C')])])])), ('allele_freq_set', None), ('variant_type', 'single nucleotide variant'), ('canonical_spdi', 'NC_000006.12:154039030:C:A')]))])), ('trait_set', OrderedDict([('trait', OrderedDict([('trait_xrefs', OrderedDict([('trait_xref', OrderedDict([('db_source', 'MedGen'), ('db_id', 'CN078023')]))])), ('trait_name', 'Tramadol response')]))])), ('supporting_submissions', OrderedDict([('scv', OrderedDict([('string', 'SCV001191988')])), ('rcv', OrderedDict([('string', 'RCV001029202')]))])), ('clinical_significance', OrderedDict([('description', 'drug response'), ('last_evaluated', '2018/04/28 00:00'), ('review_status', 'no assertion criteria provided')])), ('record_status', None), ('gene_sort', 'OPRM1'), ('chr_sort', '06'), ('location_sort', '00000000000154039031'), ('variation_set_name', None), ('variation_set_id', None), ('genes', OrderedDict([('gene', OrderedDict([('symbol', 'OPRM1'), ('GeneID', '4988'), ('strand', '+'), ('source', 'submitted')]))])), ('protein_change', None), ('fda_recognized_database', None)])\n",
      " \n",
      "OrderedDict([('@uid', '829280'), ('obj_type', 'single nucleotide variant'), ('accession', 'VCV000829280'), ('accession_version', 'VCV000829280.'), ('title', 'NM_001145279.3(OPRM1):c.1-128T>C'), ('variation_set', OrderedDict([('variation', OrderedDict([('measure_id', '816685'), ('variation_xrefs', OrderedDict([('variation_xref', OrderedDict([('db_source', 'dbSNP'), ('db_id', '1583168963')]))])), ('variation_name', 'NM_001145279.3(OPRM1):c.1-128T>C'), ('cdna_change', 'NM_001145279.3(OPRM1):c.1-128T>C'), ('aliases', None), ('variation_loc', OrderedDict([('assembly_set', [OrderedDict([('status', 'current'), ('assembly_name', 'GRCh38'), ('chr', '6'), ('band', '6q25.2'), ('start', '154039033'), ('stop', '154039033'), ('inner_start', None), ('inner_stop', None), ('outer_start', None), ('outer_stop', None), ('display_start', '154039033'), ('display_stop', '154039033'), ('assembly_acc_ver', 'GCF_000001405.38'), ('annotation_release', None), ('alt', None), ('ref', None)]), OrderedDict([('status', 'previous'), ('assembly_name', 'GRCh37'), ('chr', '6'), ('band', '6q25.2'), ('start', '154360168'), ('stop', '154360168'), ('inner_start', None), ('inner_stop', None), ('outer_start', None), ('outer_stop', None), ('display_start', '154360168'), ('display_stop', '154360168'), ('assembly_acc_ver', 'GCF_000001405.25'), ('annotation_release', None), ('alt', 'C'), ('ref', 'T')])])])), ('allele_freq_set', None), ('variant_type', 'single nucleotide variant'), ('canonical_spdi', 'NC_000006.12:154039032:T:C')]))])), ('trait_set', OrderedDict([('trait', OrderedDict([('trait_xrefs', OrderedDict([('trait_xref', OrderedDict([('db_source', 'MedGen'), ('db_id', 'CN078023')]))])), ('trait_name', 'Tramadol response')]))])), ('supporting_submissions', OrderedDict([('scv', OrderedDict([('string', 'SCV001191987')])), ('rcv', OrderedDict([('string', 'RCV001029201')]))])), ('clinical_significance', OrderedDict([('description', 'drug response'), ('last_evaluated', '2018/04/28 00:00'), ('review_status', 'no assertion criteria provided')])), ('record_status', None), ('gene_sort', 'OPRM1'), ('chr_sort', '06'), ('location_sort', '00000000000154039033'), ('variation_set_name', None), ('variation_set_id', None), ('genes', OrderedDict([('gene', OrderedDict([('symbol', 'OPRM1'), ('GeneID', '4988'), ('strand', '+'), ('source', 'submitted')]))])), ('protein_change', None), ('fda_recognized_database', None)])\n",
      " \n"
     ]
    }
   ],
   "source": [
    "dsdocs = xmltodict.parse(xml)\n",
    "for ds in dsdocs ['eSummaryResult']['DocumentSummarySet']['DocumentSummary']: \n",
    "    print(ds)\n",
    "    print(' ')"
   ]
  },
  {
   "cell_type": "code",
   "execution_count": null,
   "metadata": {},
   "outputs": [],
   "source": []
  },
  {
   "cell_type": "code",
   "execution_count": null,
   "metadata": {},
   "outputs": [],
   "source": []
  }
 ],
 "metadata": {
  "kernelspec": {
   "display_name": "Python 3",
   "language": "python",
   "name": "python3"
  },
  "language_info": {
   "codemirror_mode": {
    "name": "ipython",
    "version": 3
   },
   "file_extension": ".py",
   "mimetype": "text/x-python",
   "name": "python",
   "nbconvert_exporter": "python",
   "pygments_lexer": "ipython3",
   "version": "3.8.5"
  }
 },
 "nbformat": 4,
 "nbformat_minor": 4
}
