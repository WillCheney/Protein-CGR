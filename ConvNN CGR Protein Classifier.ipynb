{
 "cells": [
  {
   "cell_type": "code",
   "execution_count": 1,
   "metadata": {
    "collapsed": true
   },
   "outputs": [],
   "source": [
    "import numpy as np\n",
    "import matplotlib.pyplot as plt\n",
    "import math\n",
    "import pandas as pd\n",
    "import os\n",
    "import imageio\n",
    "import scipy\n",
    "from scipy import ndimage\n",
    "import cv2\n",
    "import tensorflow as tf\n",
    "from tensorflow.python.framework import ops\n"
   ]
  },
  {
   "cell_type": "code",
   "execution_count": null,
   "metadata": {
    "collapsed": true
   },
   "outputs": [],
   "source": [
    "DIR = '/Users/willcheney/Code/Protein CGR/pfam_softmax_data'\n",
    "\n",
    "num_of_images = 600\n",
    "\n",
    "cat_counter = [0,0,0,0] #track number of images from each category\n",
    "\n",
    "X_data = np.empty((0, 193, 291, 3))\n",
    "Y = np.array([])\n",
    "\n",
    "\n",
    "   \n",
    "\n",
    "for img in os.listdir(DIR):\n",
    "    \n",
    "    if img == '.DS_Store':\n",
    "        continue\n",
    "        \n",
    "    label = int(img[-5])\n",
    "    if cat_counter[label] >= num_of_images:\n",
    "        continue\n",
    "    \n",
    "    else:\n",
    "        cat_counter[label] += 1\n",
    "        Y = np.append( Y, label) #add Y-label\n",
    "        \n",
    "\n",
    "        image = np.array( imageio.imread( os.path.join(DIR, img)))\n",
    "\n",
    "        image = cv2.resize(image, (0,0), fx = 0.2, fy = 0.2)\n",
    "        image = image/255.0  # Normalize pixel values\n",
    "        image = np.delete(image, 3, axis = 2 ) # Remove image metadata\n",
    "\n",
    "        image = image.reshape((1,193,291,3))\n",
    "\n",
    "        X_data = np.append(X_data, image[:,:,:,:], axis = 0)\n",
    "\n",
    "        \n"
   ]
  },
  {
   "cell_type": "code",
   "execution_count": 3,
   "metadata": {},
   "outputs": [
    {
     "name": "stdout",
     "output_type": "stream",
     "text": [
      "(2400, 193, 291, 3)\n"
     ]
    },
    {
     "data": {
      "image/png": "[encoded data removed]",
      "text/plain": [
       "<Figure size 432x288 with 1 Axes>"
      ]
     },
     "metadata": {},
     "output_type": "display_data"
    }
   ],
   "source": [
    "#Check training data is in correct format [training examples, Height, Width, Channels]\n",
    "print(X_data.shape)\n",
    "plt.imshow(X_data[0,:,:,:])\n",
    "plt.show()"
   ]
  },
  {
   "cell_type": "code",
   "execution_count": 113,
   "metadata": {
    "collapsed": true
   },
   "outputs": [],
   "source": [
    "np.save('Conv Classifier', X_data)"
   ]
  },
  {
   "cell_type": "code",
   "execution_count": 4,
   "metadata": {
    "collapsed": true
   },
   "outputs": [],
   "source": [
    "def shuffle(X, y):\n",
    "    assert X.shape[0] == y.shape[0], 'X data dimension 0, training examples, should equal labels dimension 0 '\n",
    "    \n",
    "    x_shuffled = np.empty(X.shape) \n",
    "    y_shuffled = np.empty(y.shape)\n",
    "    \n",
    "    \n",
    "    indices = np.arange(X.shape[0])\n",
    "    rng = np.random.default_rng()\n",
    "    rng.shuffle(indices)\n",
    "    \n",
    "    x_shuffled[:,:,:,:] = X[indices,:,:,:]\n",
    "    y_shuffled[:] = y[indices]\n",
    "    \n",
    "    \n",
    "    y_shuffled  = y_shuffled.reshape(len(y_shuffled), 1)\n",
    "    \n",
    "    return x_shuffled, y_shuffled\n",
    "\n",
    "def split_data(X, y, dev_percent, test_percent):\n",
    "    \n",
    "    assert X.shape[0] == y.shape[0], 'X data dimension 0, training examples, should equal labels dimension 0 '\n",
    "    \n",
    "    train_dev_split_index = math.floor(X.shape[0] * (1 - (dev_percent + test_percent)))\n",
    "    X_train, X_dev = X[0:train_dev_split_index,:,:,:], X[train_dev_split_index:,:,:,:]\n",
    "    y_train, y_dev = y[0:train_dev_split_index,:], y[train_dev_split_index:,:]\n",
    "    \n",
    "    if test_percent == 0:\n",
    "        return X_train, X_dev, y_train, y_dev\n",
    "    \n",
    "    else:\n",
    "        dev_test_split_index =  math.floor(X_dev.shape[0] * (1 - test_percent/(dev_percent + test_percent)))\n",
    "        X_dev, X_test = X_dev[0: dev_test_split_index,:,:,: ], X_dev[dev_test_split_index:,:,:,:]\n",
    "        y_dev, y_test = y_dev[0: dev_test_split_index,: ], y_dev[dev_test_split_index:,:]\n",
    "\n",
    "\n",
    "        return X_train, X_dev, X_test, y_train, y_dev, y_test\n",
    "    "
   ]
  },
  {
   "cell_type": "code",
   "execution_count": 5,
   "metadata": {
    "collapsed": true
   },
   "outputs": [],
   "source": [
    "X_shuffled, Y_shuffled = shuffle(X_data, Y)"
   ]
  },
  {
   "cell_type": "code",
   "execution_count": 7,
   "metadata": {
    "collapsed": true
   },
   "outputs": [],
   "source": [
    "np.save('Conv_pfam_X_2400', X_shuffled)\n",
    "np.save('Conv_pfam_Y_2400', Y_shuffled)\n"
   ]
  },
  {
   "cell_type": "code",
   "execution_count": 9,
   "metadata": {
    "collapsed": true
   },
   "outputs": [],
   "source": [
    "X_train, X_dev, X_test, Y_train, Y_dev, Y_test = split_data(X_shuffled, Y_shuffled, .1, .1)"
   ]
  },
  {
   "cell_type": "code",
   "execution_count": 10,
   "metadata": {},
   "outputs": [
    {
     "data": {
      "text/plain": [
       "(1920, 193, 291, 3)"
      ]
     },
     "execution_count": 10,
     "metadata": {},
     "output_type": "execute_result"
    }
   ],
   "source": [
    "X_train.shape"
   ]
  },
  {
   "cell_type": "code",
   "execution_count": 186,
   "metadata": {
    "collapsed": true
   },
   "outputs": [],
   "source": [
    "# Plain ConvNN\n",
    "optimizer = tf.keras.optimizers.Adam()\n",
    "loss = tf.keras.losses.SparseCategoricalCrossentropy(from_logits = True)\n",
    "\n",
    "model = tf.keras.models.Sequential(name = 'arch2_with_dropout')\n",
    "\n",
    "model.add(tf.keras.layers.Input(shape = X_train.shape[1:], name = 'input'))\n",
    "model.add(tf.keras.layers.Conv2D(8, (8,8), activation = 'relu', padding = 'same', name = 'Conv_a1'))\n",
    "model.add(tf.keras.layers.Conv2D(16, (4,4), activation = 'relu', padding = 'valid', name = 'Conv_b1'))\n",
    "model.add(tf.keras.layers.MaxPooling2D(4, strides = (4,4), padding = 'same', name = 'MaxPool_1'))\n",
    "\n",
    "model.add(tf.keras.layers.Conv2D(32, (2,2), activation = 'relu', name = 'Conv_c1'))\n",
    "model.add(tf.keras.layers.Conv2D(64, (2,2), activation = 'relu', name = 'Conv_d1'))\n",
    "model.add(tf.keras.layers.Dropout(0.2))\n",
    "model.add(tf.keras.layers.MaxPooling2D(2, strides = (2,2), padding = 'same', name = 'MaxPool_2'))\n",
    "\n",
    "model.add(tf.keras.layers.Flatten())\n",
    "model.add(tf.keras.layers.Dense(64, activation = 'relu', name = 'Dense_1'))\n",
    "model.add(tf.keras.layers.Dropout(0.2))\n",
    "\n",
    "model.add(tf.keras.layers.Dense(64, activation = 'relu', name = 'Dense_2'))\n",
    "\n",
    "model.add(tf.keras.layers.Dense(4, name = 'Classification'))\n"
   ]
  },
  {
   "cell_type": "code",
   "execution_count": 187,
   "metadata": {},
   "outputs": [
    {
     "name": "stdout",
     "output_type": "stream",
     "text": [
      "Model: \"arch2_with_dropout\"\n",
      "_________________________________________________________________\n",
      "Layer (type)                 Output Shape              Param #   \n",
      "=================================================================\n",
      "Conv_a1 (Conv2D)             (None, 193, 291, 8)       1544      \n",
      "_________________________________________________________________\n",
      "Conv_b1 (Conv2D)             (None, 190, 288, 16)      2064      \n",
      "_________________________________________________________________\n",
      "MaxPool_2 (MaxPooling2D)     (None, 48, 72, 16)        0         \n",
      "_________________________________________________________________\n",
      "Conv_c1 (Conv2D)             (None, 47, 71, 32)        2080      \n",
      "_________________________________________________________________\n",
      "Conv_d1 (Conv2D)             (None, 46, 70, 64)        8256      \n",
      "_________________________________________________________________\n",
      "dropout (Dropout)            (None, 46, 70, 64)        0         \n",
      "_________________________________________________________________\n",
      "MaxPool_4 (MaxPooling2D)     (None, 23, 35, 64)        0         \n",
      "_________________________________________________________________\n",
      "flatten_5 (Flatten)          (None, 51520)             0         \n",
      "_________________________________________________________________\n",
      "Dense_1 (Dense)              (None, 64)                3297344   \n",
      "_________________________________________________________________\n",
      "dropout_1 (Dropout)          (None, 64)                0         \n",
      "_________________________________________________________________\n",
      "Dense_2 (Dense)              (None, 64)                4160      \n",
      "_________________________________________________________________\n",
      "Classification (Dense)       (None, 4)                 260       \n",
      "=================================================================\n",
      "Total params: 3,315,708\n",
      "Trainable params: 3,315,708\n",
      "Non-trainable params: 0\n",
      "_________________________________________________________________\n"
     ]
    }
   ],
   "source": [
    "model.compile(loss = loss, optimizer = optimizer, metrics=['accuracy'])\n",
    "model.summary()"
   ]
  },
  {
   "cell_type": "code",
   "execution_count": null,
   "metadata": {},
   "outputs": [
    {
     "name": "stdout",
     "output_type": "stream",
     "text": [
      "Epoch 1/5\n",
      "26/26 [==============================] - 78s 3s/step - loss: 0.0276 - accuracy: 0.9906 - val_loss: 0.0864 - val_accuracy: 0.9625\n",
      "Epoch 2/5\n",
      "26/26 [==============================] - 75s 3s/step - loss: 0.0448 - accuracy: 0.9805 - val_loss: 0.1362 - val_accuracy: 0.9563\n",
      "Epoch 3/5\n",
      "26/26 [==============================] - 2312s 89s/step - loss: 0.0343 - accuracy: 0.9867 - val_loss: 0.0857 - val_accuracy: 0.9688\n",
      "Epoch 4/5\n",
      "26/26 [==============================] - 4827s 186s/step - loss: 0.0377 - accuracy: 0.9852 - val_loss: 0.0655 - val_accuracy: 0.9688\n",
      "Epoch 5/5\n",
      "26/26 [==============================] - 7299s 281s/step - loss: 0.0306 - accuracy: 0.9875 - val_loss: 0.1269 - val_accuracy: 0.9375\n"
     ]
    },
    {
     "data": {
      "text/plain": [
       "<tensorflow.python.keras.callbacks.History at 0x1560ce630>"
      ]
     },
     "execution_count": 201,
     "metadata": {},
     "output_type": "execute_result"
    }
   ],
   "source": [
    "model.fit(X_train, Y_train, validation_data = (X_dev, Y_dev), batch_size = 50, epochs = 5, shuffle = True )\n"
   ]
  },
  {
   "cell_type": "code",
   "execution_count": 202,
   "metadata": {},
   "outputs": [
    {
     "name": "stdout",
     "output_type": "stream",
     "text": [
      "5/5 [==============================] - 2s 309ms/step - loss: 0.6048 - accuracy: 0.8562\n"
     ]
    },
    {
     "data": {
      "text/plain": [
       "[0.6048263311386108, 0.856249988079071]"
      ]
     },
     "execution_count": 202,
     "metadata": {},
     "output_type": "execute_result"
    }
   ],
   "source": [
    "model.evaluate(X_test, Y_test)"
   ]
  },
  {
   "cell_type": "code",
   "execution_count": 169,
   "metadata": {
    "collapsed": true
   },
   "outputs": [],
   "source": [
    "temp_X, temp_Y = shuffle(X_train, Y_train)"
   ]
  },
  {
   "cell_type": "code",
   "execution_count": 203,
   "metadata": {
    "collapsed": true
   },
   "outputs": [],
   "source": [
    "model.save_weights('./CGR/ConvNN_protein_CGR_classifer_arch:2') "
   ]
  },
  {
   "cell_type": "code",
   "execution_count": 11,
   "metadata": {
    "collapsed": true
   },
   "outputs": [],
   "source": [
    "leNet = tf.keras.models.Sequential(name = 'LeNet_5')\n",
    "optimizer = tf.keras.optimizers.Adam()\n",
    "loss = tf.keras.losses.SparseCategoricalCrossentropy(from_logits = True)\n",
    "\n",
    "\n",
    "leNet.add(tf.keras.layers.Input(shape = X_train.shape[1:], name = 'input_layer'))\n",
    "leNet.add(tf.keras.layers.Conv2D(6, (5,5), activation = 'relu', strides = 1, name = 'Conv_a1'))\n",
    "leNet.add(tf.keras.layers.MaxPool2D((2,2), 2, name = 'Max_Pool_a1'))\n",
    "\n",
    "leNet.add(tf.keras.layers.Conv2D(16, (5,5), activation = 'relu', strides = 1, name = \"Conv_b1\"))\n",
    "leNet.add(tf.keras.layers.MaxPool2D((2,2), 2, name = 'Max_Pool_b1'))\n",
    "\n",
    "leNet.add(tf.keras.layers.Flatten())\n",
    "leNet.add(tf.keras.layers.Dense(120, activation = 'relu', name = 'Dense_1'))\n",
    "\n",
    "leNet.add(tf.keras.layers.Dense(84, activation = 'relu', name = 'Dense_2'))\n",
    "\n",
    "leNet.add(tf.keras.layers.Dense(4, name = 'Classification'))\n"
   ]
  },
  {
   "cell_type": "code",
   "execution_count": 12,
   "metadata": {
    "collapsed": true
   },
   "outputs": [],
   "source": [
    "leNet.compile(loss = loss, optimizer= optimizer, metrics = ['accuracy'])"
   ]
  },
  {
   "cell_type": "code",
   "execution_count": 13,
   "metadata": {},
   "outputs": [
    {
     "name": "stdout",
     "output_type": "stream",
     "text": [
      "Model: \"LeNet_5\"\n",
      "_________________________________________________________________\n",
      "Layer (type)                 Output Shape              Param #   \n",
      "=================================================================\n",
      "Conv_a1 (Conv2D)             (None, 189, 287, 6)       456       \n",
      "_________________________________________________________________\n",
      "Max_Pool_a1 (MaxPooling2D)   (None, 94, 143, 6)        0         \n",
      "_________________________________________________________________\n",
      "Conv_b1 (Conv2D)             (None, 90, 139, 16)       2416      \n",
      "_________________________________________________________________\n",
      "Max_Pool_b1 (MaxPooling2D)   (None, 45, 69, 16)        0         \n",
      "_________________________________________________________________\n",
      "flatten (Flatten)            (None, 49680)             0         \n",
      "_________________________________________________________________\n",
      "Dense_1 (Dense)              (None, 120)               5961720   \n",
      "_________________________________________________________________\n",
      "Dense_2 (Dense)              (None, 84)                10164     \n",
      "_________________________________________________________________\n",
      "Classification (Dense)       (None, 4)                 340       \n",
      "=================================================================\n",
      "Total params: 5,975,096\n",
      "Trainable params: 5,975,096\n",
      "Non-trainable params: 0\n",
      "_________________________________________________________________\n"
     ]
    }
   ],
   "source": [
    "leNet.summary()"
   ]
  },
  {
   "cell_type": "code",
   "execution_count": null,
   "metadata": {},
   "outputs": [
    {
     "name": "stdout",
     "output_type": "stream",
     "text": [
      "Epoch 1/5\n",
      "20/20 [==============================] - 45s 2s/step - loss: 7.3588e-04 - accuracy: 1.0000 - val_loss: 0.3937 - val_accuracy: 0.8958\n",
      "Epoch 2/5\n",
      "20/20 [==============================] - 40s 2s/step - loss: 6.1360e-04 - accuracy: 1.0000 - val_loss: 0.3947 - val_accuracy: 0.8958\n",
      "Epoch 3/5\n",
      "20/20 [==============================] - 39s 2s/step - loss: 5.4177e-04 - accuracy: 1.0000 - val_loss: 0.3966 - val_accuracy: 0.9000\n",
      "Epoch 4/5\n",
      "20/20 [==============================] - 40s 2s/step - loss: 4.8762e-04 - accuracy: 1.0000 - val_loss: 0.4035 - val_accuracy: 0.8958\n",
      "Epoch 5/5\n",
      "20/20 [==============================] - 69s 3s/step - loss: 4.4861e-04 - accuracy: 1.0000 - val_loss: 0.4107 - val_accuracy: 0.8958\n"
     ]
    },
    {
     "data": {
      "text/plain": [
       "<tensorflow.python.keras.callbacks.History at 0x150508710>"
      ]
     },
     "execution_count": 20,
     "metadata": {},
     "output_type": "execute_result"
    }
   ],
   "source": [
    "leNet.fit(X_train, Y_train, validation_data = (X_dev, Y_dev), batch_size = 100, epochs = 5, shuffle = True )\n"
   ]
  },
  {
   "cell_type": "code",
   "execution_count": 19,
   "metadata": {},
   "outputs": [
    {
     "name": "stdout",
     "output_type": "stream",
     "text": [
      "8/8 [==============================] - 1s 172ms/step - loss: 0.6948 - accuracy: 0.8833\n"
     ]
    },
    {
     "data": {
      "text/plain": [
       "[0.694812536239624, 0.8833333253860474]"
      ]
     },
     "execution_count": 19,
     "metadata": {},
     "output_type": "execute_result"
    }
   ],
   "source": [
    "leNet.evaluate(X_test,Y_test)"
   ]
  },
  {
   "cell_type": "code",
   "execution_count": 222,
   "metadata": {
    "collapsed": true
   },
   "outputs": [],
   "source": [
    "leNet.save_weights('./CGR/leNet5') "
   ]
  },
  {
   "cell_type": "code",
   "execution_count": null,
   "metadata": {
    "collapsed": true
   },
   "outputs": [],
   "source": []
  }
 ],
 "metadata": {
  "kernelspec": {
   "display_name": "Python 3",
   "language": "python",
   "name": "python3"
  },
  "language_info": {
   "codemirror_mode": {
    "name": "ipython",
    "version": 3
   },
   "file_extension": ".py",
   "mimetype": "text/x-python",
   "name": "python",
   "nbconvert_exporter": "python",
   "pygments_lexer": "ipython3",
   "version": "3.6.1"
  }
 },
 "nbformat": 4,
 "nbformat_minor": 2
}
