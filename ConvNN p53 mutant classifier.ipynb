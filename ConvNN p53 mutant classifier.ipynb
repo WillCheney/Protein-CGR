{
 "cells": [
  {
   "cell_type": "code",
   "execution_count": 1,
   "metadata": {
    "collapsed": true
   },
   "outputs": [],
   "source": [
    "import numpy as np\n",
    "import matplotlib.pyplot as plt\n",
    "import math\n",
    "import pandas as pd\n",
    "import os\n",
    "import imageio\n",
    "import scipy\n",
    "from scipy import ndimage\n",
    "import cv2\n",
    "import tensorflow as tf\n",
    "from tensorflow.python.framework import ops\n"
   ]
  },
  {
   "cell_type": "code",
   "execution_count": null,
   "metadata": {
    "collapsed": true
   },
   "outputs": [],
   "source": [
    "# Data load\n",
    "\n",
    "\n",
    "DIR = '/Users/willcheney/Code/Protein CGR/p53 dataset/'\n",
    "\n",
    "cat = ['Functional', 'Non-Functional'] # Folder index will be used for labeling\n",
    "\n",
    "X_data = np.empty((0, 195, 291, 3))\n",
    "\n",
    "Y = np.array([])\n",
    "\n",
    "for i in cat:\n",
    "    counter = 0\n",
    "    path = os.path.join(DIR, i)\n",
    "\n",
    "   \n",
    "\n",
    "    for img in os.listdir( path):\n",
    "        if counter == 1500:\n",
    "            break\n",
    "        image = np.array( imageio.imread( os.path.join(path, img)))\n",
    "\n",
    "\n",
    "        image = cv2.resize(image, (0,0), fx = 0.2, fy = 0.2)\n",
    "        image = image/255.0\n",
    "        image = np.delete(image, 3, axis = 2 )\n",
    "\n",
    "        image = image.reshape((1,195,291,3))\n",
    "\n",
    "        X_data = np.append(X_data, image[:,:,:,:], axis = 0)\n",
    "\n",
    "        \n",
    "\n",
    "       \n",
    "\n",
    "\n",
    "\n",
    "           \n",
    "\n",
    "        Y = np.append(Y, cat.index(i))\n",
    "        counter += 1\n",
    "        \n",
    "        \n"
   ]
  },
  {
   "cell_type": "code",
   "execution_count": 5,
   "metadata": {},
   "outputs": [
    {
     "name": "stdout",
     "output_type": "stream",
     "text": [
      "(2390, 195, 291, 3)\n"
     ]
    },
    {
     "data": {
      "image/png": "[encoded data removed]",
      "text/plain": [
       "<Figure size 432x288 with 1 Axes>"
      ]
     },
     "metadata": {},
     "output_type": "display_data"
    }
   ],
   "source": [
    "print(X_data.shape)\n",
    "plt.imshow(X_data[0,:,:,:])\n",
    "plt.show()"
   ]
  },
  {
   "cell_type": "code",
   "execution_count": 6,
   "metadata": {
    "collapsed": true
   },
   "outputs": [],
   "source": [
    "def shuffle(X, y):\n",
    "    assert X.shape[0] == y.shape[0], 'X data dimension 0, training examples, should equal labels dimension 0 '\n",
    "    \n",
    "    x_shuffled = np.empty(X.shape) \n",
    "    y_shuffled = np.empty(y.shape)\n",
    "    \n",
    "    \n",
    "    indices = np.arange(X.shape[0])\n",
    "    rng = np.random.default_rng()\n",
    "    rng.shuffle(indices)\n",
    "    \n",
    "    x_shuffled[:,:,:,:] = X[indices,:,:,:]\n",
    "    y_shuffled[:] = y[indices]\n",
    "    \n",
    "    \n",
    "    y_shuffled  = y_shuffled.reshape(len(y_shuffled), 1)\n",
    "    \n",
    "    return x_shuffled, y_shuffled\n",
    "\n",
    "def split_data(X, y, dev_percent, test_percent):\n",
    "    \n",
    "    assert X.shape[0] == y.shape[0], 'X data dimension 0, training examples, should equal labels dimension 0 '\n",
    "    \n",
    "    train_dev_split_index = math.floor(X.shape[0] * (1 - (dev_percent + test_percent)))\n",
    "    X_train, X_dev = X[0:train_dev_split_index,:,:,:], X[train_dev_split_index:,:,:,:]\n",
    "    y_train, y_dev = y[0:train_dev_split_index,:], y[train_dev_split_index:,:]\n",
    "    \n",
    "    if test_percent == 0:\n",
    "        return X_train, X_dev, y_train, y_dev\n",
    "    \n",
    "    else:\n",
    "        dev_test_split_index =  math.floor(X_dev.shape[0] * (1 - test_percent/(dev_percent + test_percent)))\n",
    "        X_dev, X_test = X_dev[0: dev_test_split_index,:,:,: ], X_dev[dev_test_split_index:,:,:,:]\n",
    "        y_dev, y_test = y_dev[0: dev_test_split_index,: ], y_dev[dev_test_split_index:,:]\n",
    "\n",
    "\n",
    "        return X_train, X_dev, X_test, y_train, y_dev, y_test\n",
    "    "
   ]
  },
  {
   "cell_type": "code",
   "execution_count": 7,
   "metadata": {
    "collapsed": true
   },
   "outputs": [],
   "source": [
    "np.save('p53_conv_data', X_data)"
   ]
  },
  {
   "cell_type": "code",
   "execution_count": 8,
   "metadata": {
    "collapsed": true
   },
   "outputs": [],
   "source": [
    "X_shuffled, Y_shuffled = shuffle(X_data, Y)"
   ]
  },
  {
   "cell_type": "code",
   "execution_count": 9,
   "metadata": {
    "collapsed": true
   },
   "outputs": [],
   "source": [
    "X_train, X_dev, X_test, Y_train, Y_dev, Y_test = split_data(X_shuffled, Y_shuffled, .1, .1)"
   ]
  },
  {
   "cell_type": "code",
   "execution_count": 10,
   "metadata": {
    "collapsed": true
   },
   "outputs": [],
   "source": [
    "leNet = tf.keras.models.Sequential(name = 'LeNet_5')\n",
    "optimizer = tf.keras.optimizers.Adam()\n",
    "loss = tf.keras.losses.SparseCategoricalCrossentropy(from_logits = True)\n",
    "\n",
    "\n",
    "leNet.add(tf.keras.layers.Input(shape = X_train.shape[1:], name = 'input_layer'))\n",
    "leNet.add(tf.keras.layers.Conv2D(6, (5,5), activation = 'relu', strides = 1, name = 'Conv_a1'))\n",
    "\n",
    "leNet.add(tf.keras.layers.MaxPool2D((2,2), 2, name = 'Max_Pool_a1'))\n",
    "\n",
    "leNet.add(tf.keras.layers.Conv2D(16, (5,5), activation = 'relu', strides = 1, name = \"Conv_b1\"))\n",
    "leNet.add(tf.keras.layers.MaxPool2D((2,2), 2, name = 'Max_Pool_b1'))\n",
    "\n",
    "leNet.add(tf.keras.layers.Flatten())\n",
    "leNet.add(tf.keras.layers.Dense(120, activation = 'relu', name = 'Dense_1'))\n",
    "\n",
    "leNet.add(tf.keras.layers.Dense(84, activation = 'relu', name = 'Dense_2'))\n",
    "\n",
    "leNet.add(tf.keras.layers.Dense(4, name = 'Classification'))\n"
   ]
  },
  {
   "cell_type": "code",
   "execution_count": 11,
   "metadata": {
    "collapsed": true
   },
   "outputs": [],
   "source": [
    "leNet.compile(loss = loss, optimizer= optimizer, metrics = ['accuracy'])"
   ]
  },
  {
   "cell_type": "code",
   "execution_count": 16,
   "metadata": {},
   "outputs": [
    {
     "name": "stdout",
     "output_type": "stream",
     "text": [
      "Model: \"LeNet_5\"\n",
      "_________________________________________________________________\n",
      "Layer (type)                 Output Shape              Param #   \n",
      "=================================================================\n",
      "Conv_a1 (Conv2D)             (None, 191, 287, 6)       456       \n",
      "_________________________________________________________________\n",
      "Max_Pool_a1 (MaxPooling2D)   (None, 95, 143, 6)        0         \n",
      "_________________________________________________________________\n",
      "Conv_b1 (Conv2D)             (None, 91, 139, 16)       2416      \n",
      "_________________________________________________________________\n",
      "Max_Pool_b1 (MaxPooling2D)   (None, 45, 69, 16)        0         \n",
      "_________________________________________________________________\n",
      "flatten (Flatten)            (None, 49680)             0         \n",
      "_________________________________________________________________\n",
      "Dense_1 (Dense)              (None, 120)               5961720   \n",
      "_________________________________________________________________\n",
      "Dense_2 (Dense)              (None, 84)                10164     \n",
      "_________________________________________________________________\n",
      "Classification (Dense)       (None, 4)                 340       \n",
      "=================================================================\n",
      "Total params: 5,975,096\n",
      "Trainable params: 5,975,096\n",
      "Non-trainable params: 0\n",
      "_________________________________________________________________\n"
     ]
    }
   ],
   "source": [
    "leNet.summary()"
   ]
  },
  {
   "cell_type": "code",
   "execution_count": 30,
   "metadata": {},
   "outputs": [
    {
     "name": "stdout",
     "output_type": "stream",
     "text": [
      "Epoch 1/5\n",
      "8/8 [==============================] - 7s 817ms/step - loss: 0.1418 - accuracy: 0.9414 - val_loss: 0.0837 - val_accuracy: 0.9707\n",
      "Epoch 2/5\n",
      "8/8 [==============================] - 6s 762ms/step - loss: 0.0966 - accuracy: 0.9749 - val_loss: 0.0952 - val_accuracy: 0.9540\n",
      "Epoch 3/5\n",
      "8/8 [==============================] - 6s 745ms/step - loss: 0.0851 - accuracy: 0.9791 - val_loss: 0.0697 - val_accuracy: 0.9874\n",
      "Epoch 4/5\n",
      "8/8 [==============================] - 6s 756ms/step - loss: 0.0669 - accuracy: 0.9791 - val_loss: 0.0606 - val_accuracy: 0.9749\n",
      "Epoch 5/5\n",
      "8/8 [==============================] - 6s 738ms/step - loss: 0.0588 - accuracy: 0.9791 - val_loss: 0.0573 - val_accuracy: 0.9874\n"
     ]
    },
    {
     "data": {
      "text/plain": [
       "<tensorflow.python.keras.callbacks.History at 0x15163e550>"
      ]
     },
     "execution_count": 30,
     "metadata": {},
     "output_type": "execute_result"
    }
   ],
   "source": [
    "leNet.fit(X_train, Y_train, validation_data = (X_dev, Y_dev), epochs = 5, shuffle = True )\n"
   ]
  },
  {
   "cell_type": "code",
   "execution_count": 25,
   "metadata": {
    "collapsed": true
   },
   "outputs": [],
   "source": [
    "leNet.save_weights('./p53/leNet5_p53') "
   ]
  },
  {
   "cell_type": "code",
   "execution_count": 32,
   "metadata": {},
   "outputs": [
    {
     "name": "stdout",
     "output_type": "stream",
     "text": [
      "8/8 [==============================] - 3s 313ms/step - loss: 0.6306 - accuracy: 0.8117\n"
     ]
    },
    {
     "data": {
      "text/plain": [
       "[0.6306078433990479, 0.8117154836654663]"
      ]
     },
     "execution_count": 32,
     "metadata": {},
     "output_type": "execute_result"
    }
   ],
   "source": [
    "leNet.evaluate(X_test, Y_test)"
   ]
  },
  {
   "cell_type": "code",
   "execution_count": null,
   "metadata": {
    "collapsed": true
   },
   "outputs": [],
   "source": []
  }
 ],
 "metadata": {
  "kernelspec": {
   "display_name": "Python 3",
   "language": "python",
   "name": "python3"
  },
  "language_info": {
   "codemirror_mode": {
    "name": "ipython",
    "version": 3
   },
   "file_extension": ".py",
   "mimetype": "text/x-python",
   "name": "python",
   "nbconvert_exporter": "python",
   "pygments_lexer": "ipython3",
   "version": "3.6.1"
  }
 },
 "nbformat": 4,
 "nbformat_minor": 2
}
