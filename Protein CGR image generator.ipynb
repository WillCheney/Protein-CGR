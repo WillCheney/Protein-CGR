{
 "cells": [
  {
   "cell_type": "code",
   "execution_count": 4,
   "metadata": {},
   "outputs": [],
   "source": [
    "# Will Cheney 13-01-2021\n",
    "# Script to generate visual representation of protein sequence\n",
    "import numpy as np\n",
    "import matplotlib.pyplot as plt\n",
    "import math\n",
    "import pandas as pd\n",
    "import csv\n",
    "import os\n"
   ]
  },
  {
   "cell_type": "code",
   "execution_count": 8,
   "metadata": {},
   "outputs": [],
   "source": [
    "# Test Sequence\n",
    "p53 = 'MEEPQSDPSVEPPLSQETFSDLWKLLPENNVLSPLPSQAMDDLMLSPDDIEQWFTEDPGPDEAPRMPEAAPPVAPAPAAPTPAAPAPAPSWPLSSSVPSQKTYQGSYGFRLGFLHSGTAKSVTCTYSPALNKMFCQLAKTCPVQLWVDSTPPPGTRVRAMAIYKQSQHMTEVVRRCPHHERCSDSDGLAPPQHLIRVEGNLRVEYLDDRNTFRHSVVVPYEPPEVGSDCTTIHYNYMCNSSCMGGMNRRPILTIITLEDSSGNLLGRNSFEVRVCACPGRDRRTEEENLRKKGEPHHELPPGSTKRALPNNTSSSPQPKKKPLDGEYFTLQIRGRERFEMFRELNEALELKDAQAGKEPGGSRAHSSHLKSKKGQSTSRHKKLMFKTEGPDSD'"
   ]
  },
  {
   "cell_type": "code",
   "execution_count": 10,
   "metadata": {},
   "outputs": [],
   "source": [
    "\n",
    "def calculate_vertices(sides):\n",
    "    \"\"\"\n",
    "    caluculates (x,y) vertices coordinates for equal length n-sided shape\n",
    "    Parameters: \n",
    "        sides: number of  sides\n",
    "    Returns: List of (x,y) coordinates of the vertices\n",
    "    E.g. sides = 4 will return four points [(1,0),(0,1),(-1,0),(0,-1)] which define the vertices of the shape\n",
    "    \"\"\"\n",
    "    i = 1\n",
    "    vertices = []\n",
    "    center = (0,0)\n",
    "    while (i * 360/sides) <= 360:\n",
    "        vertices.append((round((center[0] + math.sin(math.radians(i * 360/sides))),4), round((center[1] + math.cos(math.radians(i * 360/sides))),4)))\n",
    "        i += 1\n",
    "\n",
    "    return vertices\n",
    "\n",
    "def get_variant_sequence(protein_seq, mutation):\n",
    "    \"\"\"\n",
    "    Modifies a protein sequence with mutation in format(A25T)\n",
    "    Paramerters:\n",
    "        protein_seq: unmutated protein sequence\n",
    "        mutation: mutation to be introduced in format A25T\n",
    "    Returns: Protein sequence string with introduced mutation\n",
    "    \"\"\"\n",
    "    mutation = list(mutation)\n",
    "    result = protein_seq[0:(int(''.join( mutation[1: len(mutation)-1])) - 1)] + mutation[-1] + protein_seq[int(mutation[1]):]\n",
    "    return result"
   ]
  },
  {
   "cell_type": "code",
   "execution_count": 153,
   "metadata": {},
   "outputs": [
    {
     "data": {
      "image/png": "[encoded data removed]",
      "text/plain": [
       "<Figure size 432x288 with 1 Axes>"
      ]
     },
     "metadata": {
      "needs_background": "light"
     },
     "output_type": "display_data"
    }
   ],
   "source": [
    "#Verify calculate_vertices is working\n",
    "test_list = calculate_vertices(20)\n",
    "res = [[ i for i, j in test_list ], \n",
    "       [ j for i, j in test_list ]] \n",
    "plt.scatter(res[0], res[1])\n",
    "plt.show()"
   ]
  },
  {
   "cell_type": "code",
   "execution_count": 5,
   "metadata": {},
   "outputs": [],
   "source": [
    "#Load amino acid distance matrix, these will be used to calculate step size when drawing proteins\n",
    "\n",
    "g_distance_index = ['S','R', 'L', 'P', 'T', 'A', 'V', 'G', 'I', 'F', 'Y', 'C', 'H', 'Q', 'N', 'K', 'D', 'E', 'M', 'W'] #Add serine d/max distance\n",
    "g_distance_matrix = np.array([[1, 110, 145, 74, 58, 99, 124, 56, 142, 155, 144, 112, 89, 68, 46, 121, 65, 80, 135, 177],\n",
    "                            [None, 1, 102, 103, 71, 112, 96, 125, 97, 97, 77, 180, 29, 43, 86, 26, 96, 54, 91, 101],\n",
    "                            [None, None, 1, 98, 92, 96, 32, 138, 5, 22, 36, 198, 99, 113, 153, 107, 172, 138, 15, 61],\n",
    "                            [None, None, None, 1, 38, 27, 68, 42, 95, 114, 110, 169, 77, 76, 91, 103, 108, 93, 87, 147],\n",
    "                            [None, None, None, None, 1, 58, 69, 59, 89, 103, 92, 149, 47, 42, 65, 78, 85, 65, 81, 128],\n",
    "                            [None, None, None, None, None, 1, 64, 60, 94, 113, 112, 195, 86, 91, 111, 106, 126, 107, 84, 148],\n",
    "                            [None, None, None, None, None, None, 1, 109, 29, 50, 55, 192, 84, 96, 133, 97, 152, 121, 21, 88],\n",
    "                            [None, None, None, None, None, None, None, 1, 135, 153, 147, 159, 98, 87, 80, 127, 94, 98, 127, 184],\n",
    "                            [None, None, None, None, None, None, None, None, 1, 21, 33, 198, 94, 109, 149, 102, 168, 134, 10, 61],\n",
    "                            [None, None, None, None, None, None, None, None, None, 1, 22, 205, 100, 116, 158, 102, 177, 140, 28, 40],\n",
    "                            [None, None, None, None, None, None, None, None, None, None, 1, 194, 83, 99, 143, 85, 160, 122, 36, 37],\n",
    "                            [None, None, None, None, None, None, None, None, None, None, None, 1, 174, 154, 139, 202, 154, 170, 196, 215],\n",
    "                            [None, None, None, None, None, None, None, None, None, None, None, None, 1, 24, 68, 32, 81, 40, 87, 115],\n",
    "                            [None, None, None, None, None, None, None, None, None, None, None, None, None, 1, 46, 53, 61, 29, 101,130],\n",
    "                            [None, None, None, None, None, None, None, None, None, None, None, None, None, None, 1, 94, 23, 42, 142, 174],\n",
    "                            [None, None, None, None, None, None, None, None, None, None, None, None, None, None, None, 1, 101, 56, 95, 110],\n",
    "                            [None, None, None, None, None, None, None, None, None, None, None, None, None, None, None, None, 1, 45, 160, 181],\n",
    "                            [None, None, None, None, None, None, None, None, None, None, None, None, None, None, None, None, None, 1, 126, 152],\n",
    "                            [None, None, None, None, None, None, None, None, None, None, None, None, None, None, None, None, None, None, 1, 67],\n",
    "                            [None, None, None, None, None, None, None, None, None, None, None, None, None, None, None, None, None, None, None, 1]])\n",
    "\n",
    "\n"
   ]
  },
  {
   "cell_type": "code",
   "execution_count": 12,
   "metadata": {},
   "outputs": [],
   "source": [
    "def generate_cgr(protein_seq, distance_matrix = g_distance_matrix , vertices_labels = g_distance_index, step = 0.5):\n",
    "    \"\"\"\n",
    "    Generates scatterplot points of a protein sequence by iterating chaos game represnetation of the protein sequence\n",
    "    Step size at each iteration is calculated by step*(1 / sqrt(Grantham's distance)). The purpose of this is to add structure to the resultant image by introducing a stickiness\n",
    "    \n",
    "    Parameters:\n",
    "        protein_seq -- An amino acid sequence from which to generate the image\n",
    "        distance_matrix -- A 20x20 matrix which defines the similarity of any two amino acids\n",
    "        vertices_labels -- 1x20 list which contains the labels for distance_matrix\n",
    "        step -- indicates default step size\n",
    "        \n",
    "    Returns:\n",
    "        stack -- a list of (x,y) coordinates representing the point at each step\n",
    "        cat -- a list of labels used to annotate resultant image\n",
    "    \"\"\"\n",
    "    \n",
    "    \n",
    "    \n",
    "    assert step <= 1, \"Step size too large, will over shoot vertex \"\n",
    "    \n",
    "    \n",
    "    protein_seq = protein_seq.strip('*').upper() # format input to remove termination factor and convert to uppercase\n",
    "    \n",
    "    mapped_vertices = {}\n",
    "       \n",
    "  \n",
    "    cat = vertices_labels\n",
    "        \n",
    "        \n",
    "    vertices = calculate_vertices(len(cat))\n",
    "    for i in range(len(vertices)):\n",
    "        for j in cat[i]:\n",
    "            \n",
    "            mapped_vertices[j] = vertices[i]\n",
    "    \n",
    "    stack = [(0,0)]\n",
    "    prev_AA = 'M'\n",
    "    \n",
    "    for i in protein_seq:\n",
    "        \n",
    "        if i not in ['W', 'F', 'Y', 'Q', 'P', 'N', 'A', 'T', 'S', 'V', 'G', 'M', 'C', 'I', 'L','E', 'D', 'K', 'R', 'H']:\n",
    "            continue\n",
    "        \n",
    "        destination = np.array(mapped_vertices[i])\n",
    "        current_position = np.array(stack[-1])\n",
    "        \n",
    " \n",
    "        next_position = (destination - current_position)*(step * 1/np.sqrt(get_AA_distance(prev_AA, i, distance_matrix , vertices_labels))) + current_position\n",
    "        prev_AA = i\n",
    "                                                          \n",
    "        stack.append((next_position[0], next_position[1]))\n",
    "        \n",
    "    return stack, cat\n",
    "\n",
    "def get_AA_distance(AAone, AAtwo, distance_matrix, distance_index):\n",
    "    '''\n",
    "    Retrieves the distance value for a pair of amino acids\n",
    "    \n",
    "    Returns:\n",
    "        distance value\n",
    "    '''\n",
    "\n",
    "    if distance_index.index(AAtwo) < distance_index.index(AAone):\n",
    "        return distance_matrix.T[distance_index.index(AAone), distance_index.index(AAtwo)]\n",
    "    \n",
    "    else:\n",
    "        return distance_matrix[distance_index.index(AAone), distance_index.index(AAtwo)]\n",
    "    "
   ]
  },
  {
   "cell_type": "code",
   "execution_count": 14,
   "metadata": {},
   "outputs": [
    {
     "data": {
      "image/png": "[encoded data removed]",
      "text/plain": [
       "<Figure size 432x288 with 1 Axes>"
      ]
     },
     "metadata": {
      "needs_background": "light"
     },
     "output_type": "display_data"
    }
   ],
   "source": [
    "# We can now generate an image using generate_cgr() and matplotlib\n",
    "\n",
    "stack, cat = generate_cgr(p53) #Get list of points for CGR of p53\n",
    "stack = np.array(stack) \n",
    "colors = (np.array( range( len(stack)))/ len(stack)) * 100 # Colours points based on position with sequence\n",
    "\n",
    "plt.scatter(stack[:,0], stack[:,1], s = 10, c = colors, cmap = 'viridis') #pass CGR points to plt.scatter\n",
    "plt.axis('off')\n",
    "\n",
    "vertices = np.array(calculate_vertices(len(cat)))\n",
    "plt.scatter(vertices[:,0], vertices[:,1], color = 'k', s = 10) #show calculated vertices\n",
    "\n",
    "fig1 = plt.gcf()\n",
    "\n",
    "for i in range(len(vertices)):\n",
    "    plt.annotate(cat[i], vertices[i] + [0, 0.05]) #label vertices\n",
    "\n",
    "#fig1.savefig('p53', dpi = 300, bbox_inches='tight') #save resultant image\n",
    "plt.show()"
   ]
  },
  {
   "cell_type": "code",
   "execution_count": 15,
   "metadata": {},
   "outputs": [
    {
     "name": "stdout",
     "output_type": "stream",
     "text": [
      "[ 20.  30.  40.  50.  60.  70.  80.  90. 100. 110.]\n"
     ]
    },
    {
     "data": {
      "image/png": "[encoded data removed]",
      "text/plain": [
       "<Figure size 432x288 with 1 Axes>"
      ]
     },
     "metadata": {
      "needs_background": "light"
     },
     "output_type": "display_data"
    }
   ],
   "source": [
    "# How colour varies with distance\n",
    "a = np.array(range(10))\n",
    "colors = (np.array( range( len(a)))/ len(a)) * 100 +20 # Creates an array of values [0...100] to be passed to cmap, values are normalized to sequence length than scaled to 0-100\n",
    "print(colors)\n",
    "plt.scatter(a,a, c = colors ,cmap = 'viridis')\n",
    "plt.show()"
   ]
  },
  {
   "cell_type": "code",
   "execution_count": 77,
   "metadata": {},
   "outputs": [],
   "source": [
    "# data load for p53 missense mutation data\n",
    "filename  = 'p53 Missense data.csv'\n",
    "variants = []\n",
    "labels = []\n",
    "with open(filename) as file:\n",
    "    reader = csv.reader(file)\n",
    "    \n",
    "    for row in reader:\n",
    "        variants.append(row[0])\n",
    "        labels.append(row[1])\n",
    "\n",
    "for i in range(len(variants)):\n",
    "    variants[i] = get_variant_sequence(p53, variants[i])\n",
    "    "
   ]
  },
  {
   "cell_type": "code",
   "execution_count": 52,
   "metadata": {},
   "outputs": [],
   "source": [
    "# Data load for pfam protein data\n",
    "DIR = 'C:/Users/willc/Code/Protein CGR/pfam_RP15/'\n",
    "sequences = [[], [], [], []] \n",
    "counter = 0\n",
    "current_seq = \"\"\n",
    "\n",
    "for filename in os.listdir(DIR):\n",
    "    with open(os.path.join(DIR, filename)) as file:\n",
    "        \n",
    "        reader = csv.reader(file)\n",
    "        \n",
    "        for row in reader:\n",
    "            \n",
    "            if row[0][0] == '>':\n",
    "                if not current_seq:\n",
    "                    current_seq = \"\"\n",
    "                    continue\n",
    "                else:\n",
    "                    sequences[counter].append(current_seq)\n",
    "                    current_seq = \"\"\n",
    "                    continue\n",
    "                \n",
    "            else:\n",
    "                current_seq = current_seq + row[0]\n",
    "                \n",
    "        sequences[counter].append(current_seq) \n",
    "        current_seq = \"\"\n",
    "        \n",
    "        \n",
    "    counter += 1\n",
    "    \n",
    "        "
   ]
  },
  {
   "cell_type": "code",
   "execution_count": null,
   "metadata": {},
   "outputs": [],
   "source": [
    "#Generate and save multiple protein visualizations to build datasets\n",
    "for k in range(len(sequences)):\n",
    "    counter = 1\n",
    "    for i in sequences[k][0:800]:\n",
    "        stack, cat = generate_cgr(i, distance_matrix = 'None', step = 0.5)\n",
    "        stack = np.array(stack)\n",
    "        colors = (np.array( range( len(stack)))/ len(stack)) * 100 # Creates an array of values [0...100] to be passed to cmap, values are normalized to sequence length than scaled to 0-100\n",
    "\n",
    "        plt.scatter(stack[:,0], stack[:,1], s = 10, c = colors, cmap = 'viridis')\n",
    "        plt.axis('off')\n",
    "\n",
    "        vertices = np.array(calculate_vertices(len(cat)))\n",
    "        plt.scatter(vertices[:,0], vertices[:,1], color = 'k', s = 10)\n",
    "\n",
    "        fig1 = plt.gcf()\n",
    "\n",
    "        #for j in range(len(vertices)):\n",
    "            #plt.annotate(cat[j], vertices[j] + [0, 0.05])\n",
    "        \n",
    "        fig1.savefig('softmax_' + str(counter) +'_' + str(k), dpi = 300, bbox_inches='tight')\n",
    "        fig1.clf()\n",
    "        plt.clf()\n",
    "        counter += 1\n",
    "\n",
    "    "
   ]
  },
  {
   "cell_type": "code",
   "execution_count": null,
   "metadata": {},
   "outputs": [],
   "source": []
  }
 ],
 "metadata": {
  "kernelspec": {
   "display_name": "Python 3",
   "language": "python",
   "name": "python3"
  },
  "language_info": {
   "codemirror_mode": {
    "name": "ipython",
    "version": 3
   },
   "file_extension": ".py",
   "mimetype": "text/x-python",
   "name": "python",
   "nbconvert_exporter": "python",
   "pygments_lexer": "ipython3",
   "version": "3.8.5"
  }
 },
 "nbformat": 4,
 "nbformat_minor": 4
}
